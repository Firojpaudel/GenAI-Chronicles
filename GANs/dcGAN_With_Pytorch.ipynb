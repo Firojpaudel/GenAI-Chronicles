{
 "cells": [
  {
   "cell_type": "markdown",
   "id": "3662f698",
   "metadata": {
    "_cell_guid": "b1076dfc-b9ad-4769-8c92-a6c4dae69d19",
    "_uuid": "8f2839f25d086af736a60e9eeb907d3b93b6e0e5",
    "papermill": {
     "duration": 0.002251,
     "end_time": "2024-12-24T14:02:38.807422",
     "exception": false,
     "start_time": "2024-12-24T14:02:38.805171",
     "status": "completed"
    },
    "tags": []
   },
   "source": [
    "## **Trying to Implement dcGAN using PyTorch**: _Pokemon Dataset_\n",
    "---"
   ]
  },
  {
   "cell_type": "code",
   "execution_count": null,
   "id": "0c169e57",
   "metadata": {
    "papermill": {
     "duration": 0.001521,
     "end_time": "2024-12-24T14:02:38.810795",
     "exception": false,
     "start_time": "2024-12-24T14:02:38.809274",
     "status": "completed"
    },
    "tags": []
   },
   "outputs": [],
   "source": []
  }
 ],
 "metadata": {
  "kaggle": {
   "accelerator": "none",
   "dataSources": [
    {
     "datasetId": 410745,
     "sourceId": 786434,
     "sourceType": "datasetVersion"
    }
   ],
   "dockerImageVersionId": 30822,
   "isGpuEnabled": false,
   "isInternetEnabled": true,
   "language": "python",
   "sourceType": "notebook"
  },
  "kernelspec": {
   "display_name": "Python 3",
   "language": "python",
   "name": "python3"
  },
  "language_info": {
   "codemirror_mode": {
    "name": "ipython",
    "version": 3
   },
   "file_extension": ".py",
   "mimetype": "text/x-python",
   "name": "python",
   "nbconvert_exporter": "python",
   "pygments_lexer": "ipython3",
   "version": "3.10.12"
  },
  "papermill": {
   "default_parameters": {},
   "duration": 2.737295,
   "end_time": "2024-12-24T14:02:39.231351",
   "environment_variables": {},
   "exception": null,
   "input_path": "__notebook__.ipynb",
   "output_path": "__notebook__.ipynb",
   "parameters": {},
   "start_time": "2024-12-24T14:02:36.494056",
   "version": "2.6.0"
  }
 },
 "nbformat": 4,
 "nbformat_minor": 5
}
