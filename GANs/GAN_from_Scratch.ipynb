{
  "nbformat": 4,
  "nbformat_minor": 0,
  "metadata": {
    "colab": {
      "provenance": [],
      "authorship_tag": "ABX9TyOM47joPRTq4U6SjwjpvkpR",
      "include_colab_link": true
    },
    "kernelspec": {
      "name": "python3",
      "display_name": "Python 3"
    },
    "language_info": {
      "name": "python"
    }
  },
  "cells": [
    {
      "cell_type": "markdown",
      "metadata": {
        "id": "view-in-github",
        "colab_type": "text"
      },
      "source": [
        "<a href=\"https://colab.research.google.com/github/Firojpaudel/GenAI-Chronicles/blob/main/GANs/GAN_from_Scratch.ipynb\" target=\"_parent\"><img src=\"https://colab.research.google.com/assets/colab-badge.svg\" alt=\"Open In Colab\"/></a>"
      ]
    },
    {
      "cell_type": "code",
      "execution_count": 2,
      "metadata": {
        "id": "jRXOy79ITAkn"
      },
      "outputs": [],
      "source": [
        "import numpy as np\n",
        "\" Will be using torch just to import the MNIST dataset\"\n",
        "import torch\n",
        "from torchvision import datasets, transforms\n",
        "import matplotlib.pyplot as plt"
      ]
    },
    {
      "cell_type": "code",
      "source": [
        "##@ Defining the functions\n",
        "\n",
        "''' First  the activation function '''\n",
        "\n",
        "def sigmoid(x):\n",
        ""
      ],
      "metadata": {
        "id": "-7VBFG41oNyE"
      },
      "execution_count": null,
      "outputs": []
    }
  ]
}