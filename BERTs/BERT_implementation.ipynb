{
  "nbformat": 4,
  "nbformat_minor": 0,
  "metadata": {
    "colab": {
      "provenance": [],
      "authorship_tag": "ABX9TyNnZB7GXerpgV5lwTVkBdTH",
      "include_colab_link": true
    },
    "kernelspec": {
      "name": "python3",
      "display_name": "Python 3"
    },
    "language_info": {
      "name": "python"
    }
  },
  "cells": [
    {
      "cell_type": "markdown",
      "metadata": {
        "id": "view-in-github",
        "colab_type": "text"
      },
      "source": [
        "<a href=\"https://colab.research.google.com/github/Firojpaudel/GenAI-Chronicles/blob/main/BERTs/BERT_implementation.ipynb\" target=\"_parent\"><img src=\"https://colab.research.google.com/assets/colab-badge.svg\" alt=\"Open In Colab\"/></a>"
      ]
    },
    {
      "cell_type": "markdown",
      "source": [
        "## **Trying to Implement BERT**: _Using Huggingface_ 🤗\n",
        "\n",
        "---"
      ],
      "metadata": {
        "id": "YQPukOnHkuE1"
      }
    },
    {
      "cell_type": "code",
      "source": [
        "##@ First lets install the huggingface trannsformers, datasets, evaluate and accelerate\n",
        "! pip install transformers datasets evaluate accelerate"
      ],
      "metadata": {
        "id": "1YK_YPdulGUG"
      },
      "execution_count": null,
      "outputs": []
    },
    {
      "cell_type": "code",
      "source": [],
      "metadata": {
        "id": "1_XcMGTblcF3"
      },
      "execution_count": null,
      "outputs": []
    }
  ]
}