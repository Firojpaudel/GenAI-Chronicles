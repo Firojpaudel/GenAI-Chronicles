{
  "cells": [
    {
      "cell_type": "markdown",
      "metadata": {},
      "source": [
        "<a href=\"https://colab.research.google.com/github/Firojpaudel/GenAI-Chronicles/blob/main/GANs/Trying_with_numpy.ipynb\" target=\"_parent\"><img src=\"https://colab.research.google.com/assets/colab-badge.svg\" alt=\"Open In Colab\"/></a> \n",
        "[![Run in Kaggle](https://kaggle.com/static/images/open-in-kaggle.svg)](https://www.kaggle.com/kernels/welcome?src=https://github.com/Firojpaudel/GenAI-Chronicles/blob/main/GANs/Trying_with_numpy.ipynb)"
      ]
    },
    {
      "cell_type": "markdown",
      "metadata": {
        "id": "Y1k5b5drNTeX"
      },
      "source": [
        "## Trying to code GAN Using Numpy:\n",
        "___"
      ]
    },
    {
      "cell_type": "code",
      "execution_count": null,
      "metadata": {
        "id": "8hKnnvAoNTeY"
      },
      "outputs": [],
      "source": [
        "import numpy as np\n",
        "import matplotlib.pyplot as plt\n",
        "#@ For Dataset\n",
        "from torchvision import datasets, transforms"
      ]
    },
    {
      "cell_type": "code",
      "execution_count": null,
      "metadata": {
        "id": "ACSLHKfuNTeZ"
      },
      "outputs": [],
      "source": [
        "##@ Defining the activation function\n",
        "\n",
        "def sigmoid(x):\n",
        "    return 1/(1+np.exp(-x))"
      ]
    },
    {
      "cell_type": "code",
      "execution_count": null,
      "metadata": {
        "id": "7YMD4LhzNTeZ"
      },
      "outputs": [],
      "source": [
        "##@ The generator function\n",
        "\n",
        "def generator(z, weights):\n",
        "    return sigmoid(np.dot(z, weights['g_w']) + weights['g_b'])\n"
      ]
    },
    {
      "cell_type": "code",
      "execution_count": null,
      "metadata": {
        "id": "jiqzgwSgNTea"
      },
      "outputs": [],
      "source": [
        "##@ The discriminator function\n",
        "\n",
        "def descriminator (x, weights):\n",
        "    return sigmoid(np.dot(x, weights['d_w']) + weights['d_b'])"
      ]
    },
    {
      "cell_type": "markdown",
      "metadata": {
        "id": "JktwEAMjNTea"
      },
      "source": [
        "$$Loss = -\\mathbb{E}_{x\\sim p_{real}}[log(D(x))]-\\mathbb{E}_{z\\sim p_{z}}[1- log(D(G(z)))] $$"
      ]
    },
    {
      "cell_type": "code",
      "execution_count": null,
      "metadata": {
        "id": "0d1vBrDwNTea"
      },
      "outputs": [],
      "source": [
        "##@ Loss: We will use the binary cross entropy loss\n",
        "\n",
        "def binary_cross_entropy(y_true, y_pred):\n",
        "    return -np.mean(y_true * np.log(y_pred + 1e-8) + (1 - y_true) * np.log(1 - y_pred + 1e-8))\n"
      ]
    },
    {
      "cell_type": "markdown",
      "metadata": {
        "id": "6RuXUoiHNTea"
      },
      "source": [
        "The reason for adding `1e-8` to the formula as extra is we are trying to avoid the zero logarithm problem by adding a small constant"
      ]
    },
    {
      "cell_type": "code",
      "execution_count": null,
      "metadata": {
        "id": "8Ssrs25XNTeb"
      },
      "outputs": [],
      "source": [
        "##@ Now, time for loading the MNIST data\n",
        "\n",
        "def load_mnist_data():\n",
        "    transform = transforms.Compose([transforms.ToTensor(), transforms.Normalize((0.5,), (0.5,))])\n",
        "    mnist = datasets.MNIST(root='../data', train=True, download=True, transform=transform)\n",
        "    data = mnist.data.numpy().reshape(-1, 28*28)/255.0  # Flattening and normalizing to [0,1]\n",
        "    labels = mnist.targets.numpy()\n",
        "    return data, labels"
      ]
    },
    {
      "cell_type": "markdown",
      "metadata": {
        "id": "f_e_0kHiNTeb"
      },
      "source": [
        "So, this is the data that we importing from pytorch. Explaining what this code block is doing:\n",
        "\n",
        "- `transforms.Compose()` is used to combine multiple transformation operations into a single pipeline.\n",
        "- `transforms.ToTensor()` converts the PIL.Images to the tensors\n",
        "- `transforms.Normalize()` is just normalizing the image tensor. It takes 2 arguements:\n",
        "    - mean = 0.5\n",
        "    - std = 0.5\n",
        "\n",
        "$$ \\text{Normalized_value} = \\frac{value - mean}{std}$$"
      ]
    },
    {
      "cell_type": "code",
      "execution_count": null,
      "metadata": {
        "id": "-Q7-9fhuNTeb"
      },
      "outputs": [],
      "source": [
        "##@ Visualizing the generated images\n",
        "\n",
        "def plot_image(image, title= None):\n",
        "    plt.imshow(image.reshape(28,28), cmap='gray')\n",
        "    plt.axis('off')\n",
        "    plt.title(title)\n",
        "    plt.show()"
      ]
    },
    {
      "cell_type": "code",
      "execution_count": null,
      "metadata": {
        "id": "w63OmpfDNTeb"
      },
      "outputs": [],
      "source": [
        "##@ The Training Loop\n",
        "\n",
        "def train_GAN(weights, real_data, epochs, lr, display_interval):\n",
        "    batch_size = 64\n",
        "    # 1. Training the Discriminator\n",
        "    for epoch in range(epochs):\n",
        "        idx = np.random.randint(0, real_data.shape[0], batch_size)\n",
        "        real_batch = real_data[idx]\n",
        "\n",
        "        z= np.random.uniform(-1,1, size=(batch_size, 100))\n",
        "        fake_batch = generator(z, weights)\n",
        "\n",
        "        # Desc outputs\n",
        "        real_output = descriminator(real_batch, weights)\n",
        "        fake_output = descriminator(fake_batch, weights)\n",
        "\n",
        "        # Desc Loss\n",
        "        d_loss = binary_cross_entropy(np.ones(batch_size), real_output) + \\\n",
        "            binary_cross_entropy(np.zeros(batch_size), fake_output)\n",
        "\n",
        "        # Now time for the back-prop in descriminator: calculating the gradients\n",
        "        grad_d_w_real = np.dot(real_batch.T, (real_output -1)) / batch_size\n",
        "        grad_d_w_fake = np.dot(fake_batch.T, fake_output) / batch_size\n",
        "        grad_d_w = grad_d_w_real + grad_d_w_fake\n",
        "        grad_d_b = np.mean((real_output -1) + fake_output, axis=0, keepdims=True)\n",
        "\n",
        "\n",
        "        # Updating the descriminator weights\n",
        "        weights['d_w'] -= lr * grad_d_w\n",
        "        weights['d_b'] -= lr * grad_d_b\n",
        "\n",
        "        # 2. Training the Generator\n",
        "        z= np.random.uniform(-1,1, size=(batch_size, 100))\n",
        "        fake_batch = generator(z, weights)\n",
        "        fake_output = descriminator(fake_batch, weights)\n",
        "\n",
        "        # Gen Loss\n",
        "        g_loss = binary_cross_entropy(np.ones((batch_size, 1)), fake_output)\n",
        "\n",
        "        # Now time for the back-prop in generator: calculating the gradients\n",
        "        grad_g = np.dot(z.T, (fake_output -1) @ weights['d_w'].T) / batch_size\n",
        "        grad_g_b = np.mean((fake_output -1), axis=0, keepdims=True) @ weights['d_w'].T\n",
        "\n",
        "\n",
        "        # Updating the generator weights\n",
        "        weights['g_w'] -= lr * grad_g\n",
        "        weights['g_b'] -= lr * grad_g_b\n",
        "\n",
        "        # Displaying the losses and generating the images\n",
        "        if epoch % display_interval == 0:\n",
        "            print(f\"Epoch: {epoch}, D Loss: {d_loss}, G Loss: {g_loss}\")\n",
        "\n",
        "            # Visualizing the generated image\n",
        "            generated_image = fake_batch[0] #Taking the first image\n",
        "            plot_image(generated_image)"
      ]
    },
    {
      "cell_type": "markdown",
      "metadata": {
        "id": "TuTxTj3aNTec"
      },
      "source": [
        "Why are we using `np.ones` and `np.zeros` and summing them?\n",
        "\n",
        "We are just calulating the `Real_data Loss`, `Fake_data Loss` and simply summing them.\n",
        "\n",
        "Here, we are gathering all the ones i.e all the real datas and calculating the loss comparing with the real_output\n",
        "and opposite goes for `np.zeros`.\n",
        "\n",
        "$$  \\frac{\\partial L}{\\partial W_{hidden}} = \\frac{1}{batch\\_size} \\cdot \\eta \\cdot real\\_batch^{T} \\cdot (real\\_output -1) $$\n",
        "\n",
        "The formula `(real_output -1) + fake_data` comes from the derivative of the dicriminators loss wrt its output.\n",
        "\n",
        "> Real_output =`D(x)` \\\n",
        "> Fake_output = `D(G(z))`\n",
        "\n",
        "For Real, the gradient of $\\log D(x)$ with respect to $D(x)$ is $\\frac{1}{D(x)}$ and if we apply chain rule we get `real_output-1`\n",
        "\n",
        "For fake, the gradient of $\\log(1- D(G(z)))$ with repect to fake_output $D(G(z))$ is $\\frac{-1}{1- D(G(z))}$ which leads to fake_output. Hence, we have `(real_output -1) + fake_data`.\n",
        "\n"
      ]
    },
    {
      "cell_type": "code",
      "execution_count": null,
      "metadata": {
        "id": "n5nsyNfGNTec",
        "outputId": "2d08f1e9-f68b-4f36-91a6-ce6ca3791603"
      },
      "outputs": [
        {
          "name": "stdout",
          "output_type": "stream",
          "text": [
            "Epoch: 0, D Loss: 13.989076249374122, G Loss: 8.904794641610247\n"
          ]
        },
        {
          "data": {
            "image/png": "[encoded data removed]",
            "text/plain": [
              "<Figure size 640x480 with 1 Axes>"
            ]
          },
          "metadata": {},
          "output_type": "display_data"
        },
        {
          "name": "stdout",
          "output_type": "stream",
          "text": [
            "Epoch: 5000, D Loss: 0.5061590928101195, G Loss: 4.349018508914373\n"
          ]
        },
        {
          "data": {
            "image/png": "[encoded data removed]",
            "text/plain": [
              "<Figure size 640x480 with 1 Axes>"
            ]
          },
          "metadata": {},
          "output_type": "display_data"
        },
        {
          "name": "stdout",
          "output_type": "stream",
          "text": [
            "Epoch: 10000, D Loss: 0.7894894397957706, G Loss: 2.937126201505151\n"
          ]
        },
        {
          "data": {
            "image/png": "[encoded data removed]",
            "text/plain": [
              "<Figure size 640x480 with 1 Axes>"
            ]
          },
          "metadata": {},
          "output_type": "display_data"
        }
      ],
      "source": [
        "##@ Main Function\n",
        "\n",
        "if __name__ == \"__main__\":\n",
        "\n",
        "    #@ Load Data\n",
        "    real_data, _ = load_mnist_data()\n",
        "\n",
        "    #@ Initialize the weights\n",
        "    weights = {\n",
        "        'g_w': np.random.randn(100, 784),\n",
        "        'g_b': np.zeros((1, 784)),\n",
        "        'd_w': np.random.randn(784, 1),\n",
        "        'd_b': np.zeros((1, 1))\n",
        "    }\n",
        "\n",
        "    train_GAN(weights, real_data, epochs=10001, lr= 0.005, display_interval=5000)\n"
      ]
    },
    {
      "cell_type": "markdown",
      "metadata": {
        "id": "PnFsCA05NTec"
      },
      "source": [
        "It does look like its trying to generate but not sure where it went wrong..."
      ]
    },
    {
      "cell_type": "markdown",
      "metadata": {
        "id": "WXP1szoYNTec"
      },
      "source": [
        "So, will try this in pyTorch Instead"
      ]
    }
  ],
  "metadata": {
    "colab": {
      "provenance": []
    },
    "kernelspec": {
      "display_name": "Gen_AI",
      "language": "python",
      "name": "python3"
    },
    "language_info": {
      "codemirror_mode": {
        "name": "ipython",
        "version": 3
      },
      "file_extension": ".py",
      "mimetype": "text/x-python",
      "name": "python",
      "nbconvert_exporter": "python",
      "pygments_lexer": "ipython3",
      "version": "3.12.0"
    }
  },
  "nbformat": 4,
  "nbformat_minor": 0
}
